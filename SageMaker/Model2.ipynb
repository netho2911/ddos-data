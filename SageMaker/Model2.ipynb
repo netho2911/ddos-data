{
 "cells": [
  {
   "cell_type": "code",
   "execution_count": 2,
   "id": "08ef9c31-baa5-4577-ade7-c41748296fba",
   "metadata": {},
   "outputs": [],
   "source": [
    "import boto3"
   ]
  },
  {
   "cell_type": "code",
   "execution_count": 3,
   "id": "878591b2-c166-4c93-8ac0-8f45b7e1fa71",
   "metadata": {},
   "outputs": [],
   "source": [
    "# Create a low-level client representing Amazon SageMaker Runtime\n",
    "sagemaker_runtime = boto3.client(\"sagemaker-runtime\", region_name='us-east-2')"
   ]
  },
  {
   "cell_type": "code",
   "execution_count": 16,
   "id": "7f48ae78-a01b-463e-a5b5-a44d294381b3",
   "metadata": {},
   "outputs": [],
   "source": [
    "# The name of the endpoint. The name must be unique within an AWS Region in your AWS account. \n",
    "endpoint_name='tensorflow-inference-2022-09-20-16-46-17-186'"
   ]
  },
  {
   "cell_type": "code",
   "execution_count": 11,
   "id": "26b7295d-3e48-49f3-bc64-af2ce649483e",
   "metadata": {},
   "outputs": [],
   "source": [
    "import numpy as np\n",
    "import json"
   ]
  },
  {
   "cell_type": "code",
   "execution_count": 101,
   "id": "4d999c42-3dfe-4979-8f3b-b4d1766661e4",
   "metadata": {},
   "outputs": [],
   "source": [
    "test = data_test=[[194119.0,  0.017402,163518.096774,9061]]"
   ]
  },
  {
   "cell_type": "code",
   "execution_count": 113,
   "id": "14a5db4d-80a1-419c-8dc7-cd8ed49dc47c",
   "metadata": {},
   "outputs": [],
   "source": [
    "test=[[1094119.0,  0.017402,163518.096774,5069061]]"
   ]
  },
  {
   "cell_type": "code",
   "execution_count": null,
   "id": "ddadeb9e-cce2-45ff-8392-21d16ff2d161",
   "metadata": {},
   "outputs": [],
   "source": [
    "#     const ip = dynamodb.NewImage.ip.S;\n",
    "#     const total_bwd = +dynamodb.NewImage.total_length_payload.N; //1094119.0\n",
    "#     const total = +dynamodb.NewImage.total_r.N; // 5069061\n",
    "#     const mean_bwd = total_bwd / total; //0.017402\n",
    "#     const frequence = total / minutes; //163518.096774\n",
    "    \n",
    "#     const values = [total_bwd, mean_bwd, frequence, total];"
   ]
  },
  {
   "cell_type": "code",
   "execution_count": 132,
   "id": "83b48198-a67a-4b65-bbbd-4eebd9bd5c23",
   "metadata": {},
   "outputs": [],
   "source": [
    "test = [[16433210,5745.877622377622,295.6102905456387,2860]]"
   ]
  },
  {
   "cell_type": "code",
   "execution_count": 124,
   "id": "132926e9-d6d7-4708-a759-26aead4f37ee",
   "metadata": {},
   "outputs": [],
   "source": [
    "test = [[164332.1,5745.877622377622,572000.6102905456387,2860000]]"
   ]
  },
  {
   "cell_type": "code",
   "execution_count": 133,
   "id": "50a5575c-fc18-4538-a6ef-74b36be2d3c3",
   "metadata": {},
   "outputs": [],
   "source": [
    "payload = json.dumps(test)"
   ]
  },
  {
   "cell_type": "code",
   "execution_count": 134,
   "id": "822fea11-2f3d-44f3-a5b4-6a846b28cbe8",
   "metadata": {},
   "outputs": [
    {
     "data": {
      "text/plain": [
       "'[[16433210, 5745.877622377622, 295.6102905456387, 2860]]'"
      ]
     },
     "execution_count": 134,
     "metadata": {},
     "output_type": "execute_result"
    }
   ],
   "source": [
    "payload"
   ]
  },
  {
   "cell_type": "code",
   "execution_count": 135,
   "id": "f6d7ddab-f007-452e-9961-d13c063b39bd",
   "metadata": {},
   "outputs": [],
   "source": [
    "# After you deploy a model into production using SageMaker hosting \n",
    "# services, your client applications use this API to get inferences \n",
    "# from the model hosted at the specified endpoint.\n",
    "response = sagemaker_runtime.invoke_endpoint(\n",
    "    ContentType='application/json',\n",
    "    EndpointName=endpoint_name, \n",
    "    Body=payload # Replace with your own data.\n",
    "    )\n",
    "\n",
    "# Optional - Print the response body and decode it so it is human read-able.\n",
    "# print(response['Body'].read().decode('utf-8'))"
   ]
  },
  {
   "cell_type": "code",
   "execution_count": 136,
   "id": "d6805da4-fbdf-45ca-b5fe-ee56d8d5620a",
   "metadata": {},
   "outputs": [],
   "source": [
    "import json"
   ]
  },
  {
   "cell_type": "code",
   "execution_count": 137,
   "id": "b8b7989d-82bc-4132-863f-2248297e9993",
   "metadata": {},
   "outputs": [
    {
     "data": {
      "text/plain": [
       "'{\\n    \"predictions\": [[0.0]\\n    ]\\n}'"
      ]
     },
     "execution_count": 137,
     "metadata": {},
     "output_type": "execute_result"
    }
   ],
   "source": [
    "response['Body'].read().decode('utf-8')"
   ]
  },
  {
   "cell_type": "code",
   "execution_count": null,
   "id": "3e03ad5c-879d-4186-a9b8-a209b3a77ace",
   "metadata": {},
   "outputs": [],
   "source": []
  }
 ],
 "metadata": {
  "instance_type": "ml.t3.medium",
  "kernelspec": {
   "display_name": "Python 3 (Data Science)",
   "language": "python",
   "name": "python3__SAGEMAKER_INTERNAL__arn:aws:sagemaker:us-east-2:429704687514:image/datascience-1.0"
  },
  "language_info": {
   "codemirror_mode": {
    "name": "ipython",
    "version": 3
   },
   "file_extension": ".py",
   "mimetype": "text/x-python",
   "name": "python",
   "nbconvert_exporter": "python",
   "pygments_lexer": "ipython3",
   "version": "3.7.10"
  }
 },
 "nbformat": 4,
 "nbformat_minor": 5
}
