{
 "cells": [
  {
   "cell_type": "code",
   "execution_count": 26,
   "id": "0aee2527-1341-4b8a-b60f-dcbbe365724a",
   "metadata": {},
   "outputs": [],
   "source": [
    "from sagemaker import get_execution_role\n",
    "from sagemaker import Session\n",
    "role = get_execution_role()\n",
    "sess = Session()\n",
    "bucket = sess.default_bucket()"
   ]
  },
  {
   "cell_type": "code",
   "execution_count": 27,
   "id": "baf92e13-c73b-4acb-aca7-b5c87da32e6c",
   "metadata": {},
   "outputs": [
    {
     "name": "stdout",
     "output_type": "stream",
     "text": [
      "2.8.0\n"
     ]
    }
   ],
   "source": [
    "import tensorflow as tf\n",
    "tf.compat.v1.disable_eager_execution()\n",
    "print(tf.__version__)  # This notebook runs on TensorFlow 1.15.x or earlier\n",
    "tf_framework_version = tf.__version__"
   ]
  },
  {
   "cell_type": "code",
   "execution_count": 28,
   "id": "6bc9f212-c268-4ba8-b184-aae2efd6a847",
   "metadata": {},
   "outputs": [],
   "source": [
    "input_bucket = \"sagemaker-us-east2-models\"\n",
    "filename = \"output2.h5\"\n",
    "model_version = '2'"
   ]
  },
  {
   "cell_type": "code",
   "execution_count": 5,
   "id": "22e4b35f-2dd6-474c-b836-4f2b189b5518",
   "metadata": {},
   "outputs": [
    {
     "name": "stdout",
     "output_type": "stream",
     "text": [
      "mkdir: cannot create directory ‘keras_model’: File exists\n",
      "download: s3://sagemaker-us-east2-models/output2.h5 to ./output2.h5\n"
     ]
    }
   ],
   "source": [
    "!mkdir keras_model\n",
    "!aws s3 cp s3://$input_bucket/$filename $filename"
   ]
  },
  {
   "cell_type": "code",
   "execution_count": 6,
   "id": "4ae09a31-8824-4894-ab1e-b99d628b8e73",
   "metadata": {},
   "outputs": [],
   "source": [
    "import os\n",
    "import tensorflow as tf\n",
    "import tensorflow.keras as keras\n",
    "from keras import backend as K"
   ]
  },
  {
   "cell_type": "code",
   "execution_count": 7,
   "id": "49b5842c-0c49-4f01-87bd-a5b9a2c95df3",
   "metadata": {},
   "outputs": [
    {
     "name": "stderr",
     "output_type": "stream",
     "text": [
      "/opt/conda/lib/python3.7/site-packages/keras/backend.py:450: UserWarning: `tf.keras.backend.set_learning_phase` is deprecated and will be removed after 2020-10-11. To update it, simply pass a True/False value to the `training` argument of the `__call__` method of your layer or model.\n",
      "  warnings.warn('`tf.keras.backend.set_learning_phase` is deprecated and '\n"
     ]
    }
   ],
   "source": [
    "K.set_learning_phase(0)"
   ]
  },
  {
   "cell_type": "code",
   "execution_count": 8,
   "id": "5f01d52a-2fb0-4231-a866-15cc4949bc27",
   "metadata": {},
   "outputs": [],
   "source": [
    "loaded_model = keras.models.load_model(filename)"
   ]
  },
  {
   "cell_type": "code",
   "execution_count": 9,
   "id": "4da5db9a-6249-4ff9-ad15-fac4b9471bee",
   "metadata": {},
   "outputs": [
    {
     "name": "stdout",
     "output_type": "stream",
     "text": [
      "WARNING:tensorflow:From /opt/conda/lib/python3.7/site-packages/tensorflow/python/saved_model/signature_def_utils_impl.py:204: build_tensor_info (from tensorflow.python.saved_model.utils_impl) is deprecated and will be removed in a future version.\n",
      "Instructions for updating:\n",
      "This function will only be available through the v1 compatibility library as tf.compat.v1.saved_model.utils.build_tensor_info or tf.compat.v1.saved_model.build_tensor_info.\n",
      "INFO:tensorflow:No assets to save.\n",
      "INFO:tensorflow:No assets to write.\n",
      "INFO:tensorflow:SavedModel written to: export/Servo/2/saved_model.pb\n"
     ]
    },
    {
     "data": {
      "text/plain": [
       "b'export/Servo/2/saved_model.pb'"
      ]
     },
     "execution_count": 9,
     "metadata": {},
     "output_type": "execute_result"
    }
   ],
   "source": [
    "from tensorflow.python.saved_model import builder\n",
    "from tensorflow.python.saved_model.signature_def_utils import predict_signature_def\n",
    "from tensorflow.python.saved_model import tag_constants\n",
    "\n",
    "# Note: This directory structure will need to be followed \n",
    "export_dir = 'export/Servo/' + model_version\n",
    "\n",
    "# Build the Protocol Buffer SavedModel at path defined by export_dir variable\n",
    "builder = builder.SavedModelBuilder(export_dir)\n",
    "\n",
    "# Create prediction signature to be used by TensorFlow Serving Predict API\n",
    "signature = predict_signature_def(\n",
    "    inputs={\"inputs\": loaded_model.input}, outputs={\"score\": loaded_model.output})\n",
    "\n",
    "# Save the meta graph and variables\n",
    "builder.add_meta_graph_and_variables(\n",
    "    sess=K.get_session(), tags=[tag_constants.SERVING], signature_def_map={\"serving_default\": signature})\n",
    "builder.save()"
   ]
  },
  {
   "cell_type": "code",
   "execution_count": 10,
   "id": "e25392b1-9246-4a40-a251-628a68af367b",
   "metadata": {},
   "outputs": [
    {
     "name": "stdout",
     "output_type": "stream",
     "text": [
      "2022-09-20 16:46:06.374514: W tensorflow/stream_executor/platform/default/dso_loader.cc:64] Could not load dynamic library 'libcudart.so.11.0'; dlerror: libcudart.so.11.0: cannot open shared object file: No such file or directory\n",
      "2022-09-20 16:46:06.374553: I tensorflow/stream_executor/cuda/cudart_stub.cc:29] Ignore above cudart dlerror if you do not have a GPU set up on your machine.\n",
      "\n",
      "MetaGraphDef with tag-set: 'serve' contains the following SignatureDefs:\n",
      "\n",
      "signature_def['serving_default']:\n",
      "  The given SavedModel SignatureDef contains the following input(s):\n",
      "    inputs['inputs'] tensor_info:\n",
      "        dtype: DT_FLOAT\n",
      "        shape: (-1, 4)\n",
      "        name: dense_input:0\n",
      "  The given SavedModel SignatureDef contains the following output(s):\n",
      "    outputs['score'] tensor_info:\n",
      "        dtype: DT_FLOAT\n",
      "        shape: (-1, 1)\n",
      "        name: dense_5/Sigmoid:0\n",
      "  Method name is: tensorflow/serving/predict\n"
     ]
    }
   ],
   "source": [
    "model_path = export_dir + '/'\n",
    "!saved_model_cli show --all --dir {model_path}"
   ]
  },
  {
   "cell_type": "code",
   "execution_count": 11,
   "id": "c6eefc70-4c94-4d07-a430-c83f4d769b3a",
   "metadata": {},
   "outputs": [],
   "source": [
    "import tarfile\n",
    "model_archive = 'model.tar.gz'\n",
    "with tarfile.open(model_archive, mode='w:gz') as archive:\n",
    "    archive.add('export', recursive=True) \n",
    "\n",
    "# upload model artifacts to S3\n",
    "model_data = sess.upload_data(path=model_archive, key_prefix='model'+model_version)"
   ]
  },
  {
   "cell_type": "code",
   "execution_count": 12,
   "id": "8dec5004-4cfc-4775-96a9-7d201c9130b3",
   "metadata": {},
   "outputs": [
    {
     "data": {
      "text/plain": [
       "<sagemaker.tensorflow.estimator.TensorFlow at 0x7f5704bf9b50>"
      ]
     },
     "execution_count": 12,
     "metadata": {},
     "output_type": "execute_result"
    }
   ],
   "source": [
    "from sagemaker.tensorflow import TensorFlow\n",
    "\n",
    "TensorFlow(\n",
    "    entry_point=\"script.py\",\n",
    "    framework_version=\"2.2.0\",  # now required\n",
    "    py_version=\"py37\",  # now required\n",
    "    role=\"my-role\",\n",
    "    instance_type=\"ml.m5.xlarge\",\n",
    "    instance_count=1,\n",
    ")\n"
   ]
  },
  {
   "cell_type": "code",
   "execution_count": 13,
   "id": "373eac8f-e73e-450b-93c5-6db664ff38a3",
   "metadata": {},
   "outputs": [
    {
     "name": "stderr",
     "output_type": "stream",
     "text": [
      "The class sagemaker.tensorflow.serving.Model has been renamed in sagemaker>=2.\n",
      "See: https://sagemaker.readthedocs.io/en/stable/v2.html for details.\n",
      "update_endpoint is a no-op in sagemaker>=2.\n",
      "See: https://sagemaker.readthedocs.io/en/stable/v2.html for details.\n"
     ]
    },
    {
     "name": "stdout",
     "output_type": "stream",
     "text": [
      "----!"
     ]
    }
   ],
   "source": [
    "from sagemaker.tensorflow.serving import Model\n",
    "\n",
    "# Select which type of SageMaker EC2 instance to deploy the model on  \n",
    "instance_type = 'ml.c5.xlarge' \n",
    "\n",
    "# Instantiate the SageMaker TensorFlow serving model  \n",
    "sm_model = Model(model_data=model_data, \n",
    "                 framework_version=tf_framework_version,\n",
    "                 role=role)\n",
    "\n",
    "uncompiled_predictor = sm_model.deploy(initial_instance_count=1, instance_type=instance_type) "
   ]
  },
  {
   "cell_type": "code",
   "execution_count": 14,
   "id": "a36ba587-1b8a-4e82-87fa-a88222a41050",
   "metadata": {},
   "outputs": [],
   "source": [
    "import numpy as np"
   ]
  },
  {
   "cell_type": "code",
   "execution_count": 15,
   "id": "a0881e70-6a52-4e00-8c1b-16c3b57190c5",
   "metadata": {},
   "outputs": [
    {
     "name": "stderr",
     "output_type": "stream",
     "text": [
      "/opt/conda/lib/python3.7/site-packages/keras/engine/training_v1.py:2079: UserWarning: `Model.state_updates` will be removed in a future version. This property should not be used in TensorFlow 2.0, as `updates` are applied automatically.\n",
      "  updates=self.state_updates,\n"
     ]
    }
   ],
   "source": [
    "# The sample model expects an input of shape [1,50]\n",
    "data = np.random.randn(1, 4)\n",
    "\n",
    "deployed_model_preds = uncompiled_predictor.predict(data)\n",
    "\n",
    "# Also get original model predictions for the same data \n",
    "original_model_preds = loaded_model.predict(data)\n",
    "\n",
    "try: \n",
    "    deployed_model_preds == original_model_preds\n",
    "    assert True\n",
    "except Exception:\n",
    "    print(\"Looks like your deployed model doesn't work exactly like your original model!\")   "
   ]
  },
  {
   "cell_type": "code",
   "execution_count": null,
   "id": "c315fca7-8387-410b-9650-6a1cdbc6e79d",
   "metadata": {},
   "outputs": [],
   "source": [
    "uncompiled_predictor.delete_endpoint()"
   ]
  }
 ],
 "metadata": {
  "instance_type": "ml.t3.medium",
  "kernelspec": {
   "display_name": "Python 3 (Data Science)",
   "language": "python",
   "name": "python3__SAGEMAKER_INTERNAL__arn:aws:sagemaker:us-east-2:429704687514:image/datascience-1.0"
  },
  "language_info": {
   "codemirror_mode": {
    "name": "ipython",
    "version": 3
   },
   "file_extension": ".py",
   "mimetype": "text/x-python",
   "name": "python",
   "nbconvert_exporter": "python",
   "pygments_lexer": "ipython3",
   "version": "3.7.10"
  }
 },
 "nbformat": 4,
 "nbformat_minor": 5
}
